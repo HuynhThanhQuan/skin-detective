{
 "cells": [
  {
   "cell_type": "code",
   "execution_count": 1,
   "id": "22c8aa15-501f-4cdd-b475-1dd8ac7b5163",
   "metadata": {},
   "outputs": [],
   "source": [
    "import os\n",
    "import matplotlib\n",
    "from pathlib import Path\n",
    "import pandas as pd\n",
    "import shutil"
   ]
  },
  {
   "cell_type": "code",
   "execution_count": 2,
   "id": "b7c852c1-4470-43c6-b877-7e289d428349",
   "metadata": {},
   "outputs": [],
   "source": [
    "DATA = Path('./data/final')"
   ]
  },
  {
   "cell_type": "markdown",
   "id": "0917e668-a97b-449d-8646-dff9237dbcc1",
   "metadata": {},
   "source": [
    "# CIRCLE"
   ]
  },
  {
   "cell_type": "code",
   "execution_count": 3,
   "id": "81c94f96-a9ca-4e9c-ad8b-8e3438a11b36",
   "metadata": {},
   "outputs": [],
   "source": [
    "c1 = DATA / 'circle1'\n",
    "c1_bbox = c1 / 'bbox'\n",
    "c1_img = c1 / 'image'\n",
    "c1_label = c1 / 'label.csv'"
   ]
  },
  {
   "cell_type": "code",
   "execution_count": 4,
   "id": "09d4c038-dff9-4d88-833c-1a0637c3a8a5",
   "metadata": {},
   "outputs": [
    {
     "data": {
      "text/plain": [
       "(521, 529, 529)"
      ]
     },
     "execution_count": 4,
     "metadata": {},
     "output_type": "execute_result"
    }
   ],
   "source": [
    "# Check matching between bbox and images\n",
    "\n",
    "c1_bboxes = os.listdir(c1_bbox)\n",
    "c1_images = os.listdir(c1_img)\n",
    "c1_labeldf = pd.read_csv(c1_label, index_col=0)\n",
    "\n",
    "# There are missing bbox files\n",
    "len(c1_bboxes), len(c1_images), len(c1_labeldf)"
   ]
  },
  {
   "cell_type": "code",
   "execution_count": 5,
   "id": "8b3a1d1e-467d-4981-87d4-b239b331aaa0",
   "metadata": {},
   "outputs": [],
   "source": [
    "c2 = DATA / 'circle2'\n",
    "c2_bbox = c2 / 'bbox'\n",
    "c2_img = c2 / 'image'\n",
    "c2_label = c2 / 'label.csv'"
   ]
  },
  {
   "cell_type": "code",
   "execution_count": 6,
   "id": "5c2f6264-a2da-4616-a2f0-663a89a3f183",
   "metadata": {},
   "outputs": [
    {
     "data": {
      "text/plain": [
       "(226, 226, 226)"
      ]
     },
     "execution_count": 6,
     "metadata": {},
     "output_type": "execute_result"
    }
   ],
   "source": [
    "# Check matching between bbox and images\n",
    "\n",
    "c2_bboxes = os.listdir(c2_bbox)\n",
    "c2_images = os.listdir(c2_img)\n",
    "c2_labeldf = pd.read_csv(c2_label, index_col=0)\n",
    "\n",
    "# There is no missing file\n",
    "len(c2_bboxes), len(c2_images), len(c2_labeldf)"
   ]
  },
  {
   "cell_type": "markdown",
   "id": "69c09822-c28a-4709-b180-465d6fc24276",
   "metadata": {},
   "source": [
    "# Merge into 1 folder only"
   ]
  },
  {
   "cell_type": "code",
   "execution_count": 7,
   "id": "7e8cbc5e-a67d-4220-b1cb-50c20e6fee0a",
   "metadata": {},
   "outputs": [],
   "source": [
    "# Merge into 1 folder only\n",
    "f_circle = DATA / 'f_circle'\n",
    "f_bbox = DATA / 'f_circle' / 'bbox'\n",
    "f_image = DATA / 'f_circle' / 'image'\n",
    "f_label = DATA / 'f_circle' / 'label.csv'\n",
    "\n",
    "os.makedirs(f_circle, exist_ok=True)\n",
    "os.makedirs(f_bbox, exist_ok=True)\n",
    "os.makedirs(f_image, exist_ok=True)\n",
    "\n",
    "# Copy bbox\n",
    "for f in c1_bbox.iterdir():\n",
    "    shutil.copy(str(f), f_bbox / f.name)\n",
    "for f in c2_bbox.iterdir():\n",
    "    shutil.copy(str(f), f_bbox / f.name)\n",
    "# copy image    \n",
    "for f in c1_img.iterdir():\n",
    "    shutil.copy(str(f), f_image / f.name)\n",
    "for f in c2_img.iterdir():\n",
    "    shutil.copy(str(f), f_image / f.name)"
   ]
  },
  {
   "cell_type": "code",
   "execution_count": 8,
   "id": "977a5ce8-45b5-44aa-ad4a-35532ff1dd75",
   "metadata": {},
   "outputs": [],
   "source": [
    "# copy label\n",
    "f_labeldf = pd.concat([c1_labeldf, c2_labeldf]).reset_index().drop(columns=['index'])\n",
    "# f_labeldf.to_csv(str(f_label))"
   ]
  },
  {
   "cell_type": "code",
   "execution_count": 9,
   "id": "10352183-0f63-465a-a977-1a0bd5debdc7",
   "metadata": {},
   "outputs": [],
   "source": [
    "# Check to remove mismatched \n",
    "\n",
    "bbox_names = [i.name.split('.')[0] for i in f_bbox.iterdir()]\n",
    "img_names = [i.name.split('.')[0] for i in f_image.iterdir()]\n",
    "label_names = f_labeldf['id'].tolist()"
   ]
  },
  {
   "cell_type": "code",
   "execution_count": 10,
   "id": "e18744f1-39ce-439d-a0f0-56a188376dbc",
   "metadata": {},
   "outputs": [
    {
     "data": {
      "text/plain": [
       "(747, 755, 755)"
      ]
     },
     "execution_count": 10,
     "metadata": {},
     "output_type": "execute_result"
    }
   ],
   "source": [
    "len(bbox_names), len(img_names), len(label_names)"
   ]
  },
  {
   "cell_type": "code",
   "execution_count": 11,
   "id": "41be800c-b5fa-445c-a569-daee4d75b4c4",
   "metadata": {},
   "outputs": [
    {
     "data": {
      "text/plain": [
       "(['ckm4i98se010t3a6870lsokzl', 'ckm4l96uj010y3a6884viub14'],\n",
       " ['cklmbf086000i3a62l63tud9h', 'cklnu3t7p00003a68xbkcjn77'],\n",
       " ['cklmbf086000i3a62l63tud9h', 'cklmfyw2600003b68ypk1esxh'])"
      ]
     },
     "execution_count": 11,
     "metadata": {},
     "output_type": "execute_result"
    }
   ],
   "source": [
    "bbox_names[:2], img_names[:2], label_names[:2]"
   ]
  },
  {
   "cell_type": "code",
   "execution_count": 12,
   "id": "0e103d81-02f8-4078-b495-17d46a4a5a40",
   "metadata": {},
   "outputs": [
    {
     "data": {
      "text/plain": [
       "(755, 747, 8)"
      ]
     },
     "execution_count": 12,
     "metadata": {},
     "output_type": "execute_result"
    }
   ],
   "source": [
    "all_names = list(set(bbox_names) | set(img_names) | set(label_names))\n",
    "valid_names = list(set(bbox_names) & set(img_names) & set(label_names))\n",
    "invalid_names = list(set(all_names) - set(valid_names))\n",
    "len(all_names), len(valid_names), len(invalid_names)"
   ]
  },
  {
   "cell_type": "code",
   "execution_count": 13,
   "id": "ae738da4-7a25-49c6-923a-b3b8ac0e94f8",
   "metadata": {},
   "outputs": [
    {
     "data": {
      "text/plain": [
       "(747, 747, 747)"
      ]
     },
     "execution_count": 13,
     "metadata": {},
     "output_type": "execute_result"
    }
   ],
   "source": [
    "# Search and remove invalid files\n",
    "for n in invalid_names:\n",
    "    invalid_bbox = f_bbox / (n + '.csv')\n",
    "    invalid_img = f_image / (n + '.jpeg')\n",
    "    if invalid_bbox.exists():\n",
    "        os.remove(invalid_bbox)\n",
    "    if invalid_img.exists():\n",
    "        os.remove(invalid_img)\n",
    "\n",
    "f_labeldf = f_labeldf[f_labeldf['id'].isin(valid_names)]\n",
    "\n",
    "# Check again\n",
    "bbox_names = [i.name.split('.')[0] for i in f_bbox.iterdir()]\n",
    "img_names = [i.name.split('.')[0] for i in f_image.iterdir()]\n",
    "label_names = f_labeldf['id'].tolist()\n",
    "len(bbox_names), len(img_names), len(label_names)"
   ]
  },
  {
   "cell_type": "markdown",
   "id": "34bf63f5-258e-4213-af15-6f31356255e8",
   "metadata": {},
   "source": [
    "# DONE"
   ]
  },
  {
   "cell_type": "code",
   "execution_count": null,
   "id": "bf93e766-6b65-4bf2-acba-73e30c171aa5",
   "metadata": {},
   "outputs": [],
   "source": []
  }
 ],
 "metadata": {
  "kernelspec": {
   "display_name": "skin",
   "language": "python",
   "name": "skin"
  },
  "language_info": {
   "codemirror_mode": {
    "name": "ipython",
    "version": 3
   },
   "file_extension": ".py",
   "mimetype": "text/x-python",
   "name": "python",
   "nbconvert_exporter": "python",
   "pygments_lexer": "ipython3",
   "version": "3.9.13"
  }
 },
 "nbformat": 4,
 "nbformat_minor": 5
}
