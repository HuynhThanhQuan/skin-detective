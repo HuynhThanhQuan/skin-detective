{
 "cells": [
  {
   "cell_type": "code",
   "execution_count": 10,
   "id": "972d6aa1-b1ac-489b-a803-f9aab1a52f66",
   "metadata": {},
   "outputs": [],
   "source": [
    "import os\n",
    "from pathlib import Path\n",
    "from sklearn.model_selection import train_test_split\n",
    "import shutil"
   ]
  },
  {
   "cell_type": "code",
   "execution_count": 2,
   "id": "4e5f6a70-de90-4850-9990-dc5a5e10f6c1",
   "metadata": {},
   "outputs": [],
   "source": [
    "SEED = 1"
   ]
  },
  {
   "cell_type": "code",
   "execution_count": 3,
   "id": "72556086-1479-41c5-b1cb-19fb0d2cb9d5",
   "metadata": {},
   "outputs": [],
   "source": [
    "DATA = Path('./data/final/f_circle/')\n",
    "bbox = DATA / 'bbox'\n",
    "image = DATA / 'image'"
   ]
  },
  {
   "cell_type": "code",
   "execution_count": 4,
   "id": "560bccd1-5696-45d6-940d-8c093bd74e42",
   "metadata": {},
   "outputs": [
    {
     "data": {
      "text/plain": [
       "(747, 747)"
      ]
     },
     "execution_count": 4,
     "metadata": {},
     "output_type": "execute_result"
    }
   ],
   "source": [
    "len(list(bbox.glob('*'))), len(list(image.glob('*')))"
   ]
  },
  {
   "cell_type": "code",
   "execution_count": 5,
   "id": "b394a5c0-09ef-493e-b813-eea5a2d2511b",
   "metadata": {},
   "outputs": [],
   "source": [
    "image_names = [i.name.split('.')[0] for i in image.iterdir()]"
   ]
  },
  {
   "cell_type": "code",
   "execution_count": 7,
   "id": "830aa588-4013-4bfb-9b70-21535ec6de4a",
   "metadata": {},
   "outputs": [],
   "source": [
    "train, val = train_test_split(image_names, test_size=0.3, random_state=SEED)\n",
    "val, test = train_test_split(val, test_size=0.6, random_state=SEED)"
   ]
  },
  {
   "cell_type": "code",
   "execution_count": 8,
   "id": "4cb158f1-322d-46e2-b3c0-37dad6e14798",
   "metadata": {},
   "outputs": [
    {
     "data": {
      "text/plain": [
       "(522, 90, 135)"
      ]
     },
     "execution_count": 8,
     "metadata": {},
     "output_type": "execute_result"
    }
   ],
   "source": [
    "len(train), len(val), len(test)"
   ]
  },
  {
   "cell_type": "code",
   "execution_count": 13,
   "id": "c6993881-1c86-4756-a27c-ff1b2e0d08e4",
   "metadata": {},
   "outputs": [],
   "source": [
    "circle_ds = DATA / 'ds'\n",
    "ds_train = circle_ds / 'train'\n",
    "ds_train_bbox = ds_train / 'bbox'\n",
    "ds_train_img = ds_train / 'image'\n",
    "ds_val = circle_ds / 'val'\n",
    "ds_val_bbox = ds_val / 'bbox'\n",
    "ds_val_img = ds_val / 'image'\n",
    "ds_test = circle_ds / 'test'\n",
    "ds_test_bbox = ds_test / 'bbox'\n",
    "ds_test_img = ds_test / 'image'\n",
    "\n",
    "os.makedirs(circle_ds, exist_ok=True)\n",
    "os.makedirs(ds_train, exist_ok=True)\n",
    "os.makedirs(ds_train_bbox, exist_ok=True)\n",
    "os.makedirs(ds_train_img, exist_ok=True)\n",
    "os.makedirs(ds_val, exist_ok=True)\n",
    "os.makedirs(ds_val_bbox, exist_ok=True)\n",
    "os.makedirs(ds_val_img, exist_ok=True)\n",
    "os.makedirs(ds_test, exist_ok=True)\n",
    "os.makedirs(ds_test_bbox, exist_ok=True)\n",
    "os.makedirs(ds_test_img, exist_ok=True)"
   ]
  },
  {
   "cell_type": "code",
   "execution_count": 14,
   "id": "64820ddb-6b26-460d-a95c-06ab44e8b09e",
   "metadata": {},
   "outputs": [],
   "source": [
    "# Copy to dataset\n",
    "for n in train:\n",
    "    n_bbox = n + '.csv'\n",
    "    n_image = n + '.jpeg'\n",
    "    shutil.copy(bbox / n_bbox, ds_train_bbox / n_bbox)\n",
    "    shutil.copy(image / n_image, ds_train_img / n_image)"
   ]
  },
  {
   "cell_type": "code",
   "execution_count": 16,
   "id": "a724378b-bc97-4ad5-9f9d-3cd462539bdc",
   "metadata": {},
   "outputs": [],
   "source": [
    "# Copy to dataset\n",
    "for n in val:\n",
    "    n_bbox = n + '.csv'\n",
    "    n_image = n + '.jpeg'\n",
    "    shutil.copy(bbox / n_bbox, ds_val_bbox / n_bbox)\n",
    "    shutil.copy(image / n_image, ds_val_img / n_image)"
   ]
  },
  {
   "cell_type": "code",
   "execution_count": 15,
   "id": "dbc9e48b-2c6f-4a5c-ab5b-4b0c0ab5f57e",
   "metadata": {},
   "outputs": [],
   "source": [
    "# Copy to dataset\n",
    "for n in test:\n",
    "    n_bbox = n + '.csv'\n",
    "    n_image = n + '.jpeg'\n",
    "    shutil.copy(bbox / n_bbox, ds_test_bbox / n_bbox)\n",
    "    shutil.copy(image / n_image, ds_test_img / n_image)"
   ]
  },
  {
   "cell_type": "code",
   "execution_count": null,
   "id": "3dd087e8-3c73-49cf-b687-afa7dd11394a",
   "metadata": {},
   "outputs": [],
   "source": []
  }
 ],
 "metadata": {
  "kernelspec": {
   "display_name": "skin",
   "language": "python",
   "name": "skin"
  },
  "language_info": {
   "codemirror_mode": {
    "name": "ipython",
    "version": 3
   },
   "file_extension": ".py",
   "mimetype": "text/x-python",
   "name": "python",
   "nbconvert_exporter": "python",
   "pygments_lexer": "ipython3",
   "version": "3.9.13"
  }
 },
 "nbformat": 4,
 "nbformat_minor": 5
}
