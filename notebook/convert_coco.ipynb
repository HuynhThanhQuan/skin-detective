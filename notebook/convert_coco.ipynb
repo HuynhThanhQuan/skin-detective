{
 "cells": [
  {
   "cell_type": "code",
   "execution_count": 1,
   "id": "9d6f9617-1258-4dfb-b8b0-4e2c27406582",
   "metadata": {},
   "outputs": [],
   "source": [
    "import os\n",
    "from pathlib import Path\n",
    "import json\n",
    "import matplotlib.pyplot as plt\n",
    "import pandas as pd\n",
    "import shutil\n",
    "import collections\n",
    "import cv2\n",
    "from unidecode import unidecode"
   ]
  },
  {
   "cell_type": "code",
   "execution_count": 2,
   "id": "4b53b492-8820-41f9-9f4c-98f714f021b5",
   "metadata": {},
   "outputs": [],
   "source": [
    "DATA = Path('../data/filtered/circle')"
   ]
  },
  {
   "cell_type": "markdown",
   "id": "7900756e-f7e7-4646-ab48-13c08823801c",
   "metadata": {},
   "source": [
    "## READ UNIVERSAL LABEL"
   ]
  },
  {
   "cell_type": "code",
   "execution_count": 3,
   "id": "59c61897",
   "metadata": {},
   "outputs": [
    {
     "data": {
      "text/html": [
       "<div>\n",
       "<style scoped>\n",
       "    .dataframe tbody tr th:only-of-type {\n",
       "        vertical-align: middle;\n",
       "    }\n",
       "\n",
       "    .dataframe tbody tr th {\n",
       "        vertical-align: top;\n",
       "    }\n",
       "\n",
       "    .dataframe thead th {\n",
       "        text-align: right;\n",
       "    }\n",
       "</style>\n",
       "<table border=\"1\" class=\"dataframe\">\n",
       "  <thead>\n",
       "    <tr style=\"text-align: right;\">\n",
       "      <th></th>\n",
       "      <th>id</th>\n",
       "      <th>label_name</th>\n",
       "      <th>label_name_standard</th>\n",
       "    </tr>\n",
       "  </thead>\n",
       "  <tbody>\n",
       "    <tr>\n",
       "      <th>0</th>\n",
       "      <td>0</td>\n",
       "      <td>sẹo_mụn_(lõm,_lồi)</td>\n",
       "      <td>seo_mun_(lom,_loi)</td>\n",
       "    </tr>\n",
       "    <tr>\n",
       "      <th>1</th>\n",
       "      <td>1</td>\n",
       "      <td>sang_thương_viêm_(sẩn,_mụn_mủ,_mảng_viêm_đỏ)</td>\n",
       "      <td>sang_thuong_viem_(san,_mun_mu,_mang_viem_do)</td>\n",
       "    </tr>\n",
       "    <tr>\n",
       "      <th>2</th>\n",
       "      <td>2</td>\n",
       "      <td>sang_thương_nang_và_nốt</td>\n",
       "      <td>sang_thuong_nang_va_not</td>\n",
       "    </tr>\n",
       "    <tr>\n",
       "      <th>3</th>\n",
       "      <td>3</td>\n",
       "      <td>còi_(đóng/mở)</td>\n",
       "      <td>coi_(dong/mo)</td>\n",
       "    </tr>\n",
       "    <tr>\n",
       "      <th>4</th>\n",
       "      <td>4</td>\n",
       "      <td>dát_tăng_sắc_tố_(vết_thâm)</td>\n",
       "      <td>dat_tang_sac_to_(vet_tham)</td>\n",
       "    </tr>\n",
       "  </tbody>\n",
       "</table>\n",
       "</div>"
      ],
      "text/plain": [
       "   id                                    label_name  \\\n",
       "0   0                            sẹo_mụn_(lõm,_lồi)   \n",
       "1   1  sang_thương_viêm_(sẩn,_mụn_mủ,_mảng_viêm_đỏ)   \n",
       "2   2                       sang_thương_nang_và_nốt   \n",
       "3   3                                 còi_(đóng/mở)   \n",
       "4   4                    dát_tăng_sắc_tố_(vết_thâm)   \n",
       "\n",
       "                            label_name_standard  \n",
       "0                            seo_mun_(lom,_loi)  \n",
       "1  sang_thuong_viem_(san,_mun_mu,_mang_viem_do)  \n",
       "2                       sang_thuong_nang_va_not  \n",
       "3                                 coi_(dong/mo)  \n",
       "4                    dat_tang_sac_to_(vet_tham)  "
      ]
     },
     "execution_count": 3,
     "metadata": {},
     "output_type": "execute_result"
    }
   ],
   "source": [
    "global_label_map = pd.read_csv(DATA / 'label_map.csv', index_col=0)\n",
    "global_label_map['label_name_standard'] = global_label_map['label_name'].apply(lambda x: unidecode(x))\n",
    "global_label_map"
   ]
  },
  {
   "cell_type": "code",
   "execution_count": 4,
   "id": "a42cc482",
   "metadata": {},
   "outputs": [
    {
     "data": {
      "text/plain": [
       "({0: 'seo_mun_(lom,_loi)',\n",
       "  1: 'sang_thuong_viem_(san,_mun_mu,_mang_viem_do)',\n",
       "  2: 'sang_thuong_nang_va_not',\n",
       "  3: 'coi_(dong/mo)',\n",
       "  4: 'dat_tang_sac_to_(vet_tham)'},\n",
       " {'seo_mun_(lom,_loi)': 0,\n",
       "  'sang_thuong_viem_(san,_mun_mu,_mang_viem_do)': 1,\n",
       "  'sang_thuong_nang_va_not': 2,\n",
       "  'coi_(dong/mo)': 3,\n",
       "  'dat_tang_sac_to_(vet_tham)': 4})"
      ]
     },
     "execution_count": 4,
     "metadata": {},
     "output_type": "execute_result"
    }
   ],
   "source": [
    "global_label = dict(zip(global_label_map['id'], global_label_map['label_name_standard']))\n",
    "global_label_vn = dict(zip(global_label_map['label_name'], global_label_map['label_name_standard']))\n",
    "global_label_inv = {v:k for k, v in global_label.items()}\n",
    "global_label, global_label_inv"
   ]
  },
  {
   "cell_type": "code",
   "execution_count": 5,
   "id": "7dc6b1f6",
   "metadata": {},
   "outputs": [],
   "source": [
    "# Regenerate global label\n",
    "def generate_global_label():\n",
    "    global_label = []\n",
    "    bbox = DATA / 'bbox'\n",
    "    img = DATA / 'image'\n",
    "\n",
    "    for b in bbox.iterdir():\n",
    "        if '.csv' in b.name:\n",
    "            df = pd.read_csv(b, index_col=0)\n",
    "            acnes = df['label'].tolist()\n",
    "            global_label.extend(acnes)\n",
    "    stats = collections.Counter(global_label)\n",
    "    print(stats)\n",
    "    pd.Series(global_label).value_counts().plot(kind='pie', autopct='%.2f%%')\n",
    "    \n",
    "    # get index\n",
    "    global_label = list(set(global_label))\n",
    "    global_label = {k:v for k, v in enumerate(global_label)}\n",
    "    global_label_inv = {v:k for k, v in global_label.items()}\n",
    "    global_label_map = pd.DataFrame(data={\n",
    "        'id': global_label.keys(),\n",
    "        'label_name': global_label.values()\n",
    "        }\n",
    "    )\n",
    "    global_label_map.to_csv(DATA / 'label_map.csv')\n",
    "    return global_label_map"
   ]
  },
  {
   "cell_type": "markdown",
   "id": "e1891090-c644-4d27-b691-17b6d77c5d25",
   "metadata": {},
   "source": [
    "## GENERATE COCO"
   ]
  },
  {
   "cell_type": "code",
   "execution_count": 6,
   "id": "53d48675-c702-4d78-a4c4-9495f1e26ce1",
   "metadata": {},
   "outputs": [],
   "source": [
    "def generate_dataset_coco(path):\n",
    "    def parse_str2dict(t):\n",
    "        text = t.strip()\n",
    "        text = text.replace('{','').replace('}','').replace('\\'','').replace('\\\"','')\n",
    "        items = text.split(',')\n",
    "        keys, values = [], []\n",
    "        for item in items:\n",
    "            k,v = item.split(':')\n",
    "            keys.append(k.strip())\n",
    "            values.append(int(v.strip()))\n",
    "        return dict(zip(keys, values))\n",
    "    \n",
    "    bbox_f = path / 'bbox'\n",
    "    img_f = path / 'image'\n",
    "    \n",
    "    coco = {\n",
    "        'info': {},\n",
    "        'licenses': [],\n",
    "        'categories': [],\n",
    "        'images': [],\n",
    "        'annotations': []\n",
    "    }\n",
    "    \n",
    "    # Info\n",
    "    #\n",
    "    # License\n",
    "    #\n",
    "    # Category\n",
    "    categories = [{\"id\": _id, \"name\": name} for _id, name in global_label.items()]\n",
    "    coco['categories'] = categories\n",
    "    # Image\n",
    "    image_infos = []\n",
    "    all_images = [i for i in img_f.iterdir() if '.jpeg' in str(i)]\n",
    "    for idx, f in enumerate(all_images):\n",
    "        img_info = {}\n",
    "        n = f.name\n",
    "        p = str(f)\n",
    "        img = cv2.imread(p)\n",
    "        h,w = img.shape[:2]\n",
    "        img_info['id'] = idx\n",
    "        img_info['width'] = w\n",
    "        img_info['height'] = h\n",
    "        img_info['file_name'] = n\n",
    "        image_infos.append(img_info)\n",
    "    coco['images'] = image_infos\n",
    "    # Annotation\n",
    "    anno_id = 0\n",
    "    anno_infos = []\n",
    "    for img_info in coco['images']:\n",
    "        img_id = img_info['id']\n",
    "        bbox_n = img_info['file_name'].split('.')[0] + '.csv'\n",
    "        bbox_content = pd.read_csv(str(bbox_f / bbox_n), index_col=0)\n",
    "        for an_idx, row in bbox_content.iterrows():\n",
    "            category_id = global_label_inv[global_label_vn[row['label']]]\n",
    "            b_c = parse_str2dict(row['objects'])\n",
    "            bbox = [b_c['left'], b_c['top'], b_c['width'], b_c['height']]\n",
    "            x0, y0, x1, y1 = b_c['left'], b_c['top'], b_c['left'] + b_c['width'], b_c['top'] + b_c['height']\n",
    "            anno_info = {\n",
    "                'id': anno_id,\n",
    "                'image_id': int(img_id),\n",
    "                'category_id': int(category_id),\n",
    "                'segmentation': [[x0, y0, x0, y1, x1, y1,x1, y0]],\n",
    "                'area': b_c['width'] * b_c['height'],\n",
    "                'bbox': bbox,\n",
    "                'iscrowd': 0,\n",
    "            }\n",
    "            anno_infos.append(anno_info)\n",
    "            anno_id += 1\n",
    "    coco['annotations'] = anno_infos\n",
    "    return coco"
   ]
  },
  {
   "cell_type": "code",
   "execution_count": 7,
   "id": "d544cae4",
   "metadata": {},
   "outputs": [],
   "source": [
    "coco = generate_dataset_coco(DATA)"
   ]
  },
  {
   "cell_type": "code",
   "execution_count": 8,
   "id": "f2e2718b",
   "metadata": {},
   "outputs": [
    {
     "data": {
      "text/plain": [
       "747"
      ]
     },
     "execution_count": 8,
     "metadata": {},
     "output_type": "execute_result"
    }
   ],
   "source": [
    "len(coco['images'])"
   ]
  },
  {
   "cell_type": "code",
   "execution_count": 9,
   "id": "5af528f3",
   "metadata": {},
   "outputs": [],
   "source": [
    "json.dump(coco, open(DATA / 'annotations.json','w'))"
   ]
  },
  {
   "cell_type": "code",
   "execution_count": null,
   "id": "319746c0",
   "metadata": {},
   "outputs": [],
   "source": []
  }
 ],
 "metadata": {
  "kernelspec": {
   "display_name": "skin",
   "language": "python",
   "name": "python3"
  },
  "language_info": {
   "codemirror_mode": {
    "name": "ipython",
    "version": 3
   },
   "file_extension": ".py",
   "mimetype": "text/x-python",
   "name": "python",
   "nbconvert_exporter": "python",
   "pygments_lexer": "ipython3",
   "version": "3.11.7"
  }
 },
 "nbformat": 4,
 "nbformat_minor": 5
}
