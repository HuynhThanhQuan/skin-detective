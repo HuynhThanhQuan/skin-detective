{
 "cells": [
  {
   "cell_type": "code",
   "execution_count": 27,
   "id": "e8237bbe-ffaf-4119-8e65-670406c2ce5c",
   "metadata": {},
   "outputs": [],
   "source": [
    "import os\n",
    "import pathlib\n",
    "import pandas as pd\n",
    "import numpy as np\n",
    "import shutil"
   ]
  },
  {
   "cell_type": "code",
   "execution_count": 3,
   "id": "9c88df50-146d-4486-aace-11b5bf9279e8",
   "metadata": {},
   "outputs": [],
   "source": [
    "DATA_LOC = pathlib.Path('../data/')\n",
    "\n",
    "RAW_LOC = DATA_LOC / 'raw'\n",
    "FILTERED_LOC = DATA_LOC / 'filtered'"
   ]
  },
  {
   "cell_type": "code",
   "execution_count": 4,
   "id": "bdba4f37-f6ef-44c2-a667-68c79383dbd6",
   "metadata": {},
   "outputs": [],
   "source": [
    "circle1 = RAW_LOC / 'circle1'\n",
    "circle2 = RAW_LOC / 'circle2'"
   ]
  },
  {
   "cell_type": "markdown",
   "id": "abcde4f1-fa89-466f-affb-a17010505ce4",
   "metadata": {},
   "source": [
    "# DATA CHECK"
   ]
  },
  {
   "cell_type": "markdown",
   "id": "3a9a7298-4f9d-49fe-9eef-d1707f8a8282",
   "metadata": {},
   "source": [
    "## CIRCLE 1"
   ]
  },
  {
   "cell_type": "code",
   "execution_count": 5,
   "id": "f242e1cb-4fcd-4532-b38a-178169d92e7a",
   "metadata": {},
   "outputs": [],
   "source": [
    "bbox_c1_fp = circle1 / 'bbox'\n",
    "img_c1_fp = circle1 / 'image'\n",
    "label_c1_fp = circle1 / 'label.csv'"
   ]
  },
  {
   "cell_type": "code",
   "execution_count": 6,
   "id": "b6fff95e-1d1b-4a92-aa2f-fabc83d7e739",
   "metadata": {},
   "outputs": [],
   "source": [
    "fn_bbox_c1 = list(bbox_c1_fp.iterdir())\n",
    "fn_bbox_c1 = [i.parts[-1].split('.')[0] for i in fn_bbox_c1 if '.csv' in str(i.parts[-1])]"
   ]
  },
  {
   "cell_type": "code",
   "execution_count": 7,
   "id": "23aefc0f-34f8-43a3-a66c-cabdf78ee77c",
   "metadata": {},
   "outputs": [],
   "source": [
    "fn_img_c1 = list(img_c1_fp.iterdir())\n",
    "fn_img_c1 = [i.parts[-1].split('.')[0] for i in fn_img_c1 if '.jpeg' in str(i.parts[-1])]"
   ]
  },
  {
   "cell_type": "code",
   "execution_count": 8,
   "id": "7f54da1f-3257-43ed-ac88-ed603e9962f6",
   "metadata": {},
   "outputs": [],
   "source": [
    "label_c1 = pd.read_csv(label_c1_fp, index_col=0)\n",
    "fn_label_c1 = label_c1['id'].tolist()"
   ]
  },
  {
   "cell_type": "code",
   "execution_count": 9,
   "id": "a2bb430a-c992-4d0e-9703-e201d5d1de21",
   "metadata": {},
   "outputs": [
    {
     "data": {
      "text/plain": [
       "(521, 529, 529)"
      ]
     },
     "execution_count": 9,
     "metadata": {},
     "output_type": "execute_result"
    }
   ],
   "source": [
    "len(fn_bbox_c1), len(fn_img_c1), len(fn_label_c1)"
   ]
  },
  {
   "cell_type": "code",
   "execution_count": 10,
   "id": "29b67a71-e540-4043-a47c-240e65437947",
   "metadata": {},
   "outputs": [
    {
     "data": {
      "text/plain": [
       "521"
      ]
     },
     "execution_count": 10,
     "metadata": {},
     "output_type": "execute_result"
    }
   ],
   "source": [
    "len(set(fn_bbox_c1) & set(fn_img_c1) & set(fn_label_c1))"
   ]
  },
  {
   "cell_type": "code",
   "execution_count": 18,
   "id": "d97b6334",
   "metadata": {},
   "outputs": [],
   "source": [
    "fn_c1 = list(set(fn_bbox_c1) & set(fn_img_c1) & set(fn_label_c1))"
   ]
  },
  {
   "cell_type": "markdown",
   "id": "62b71f62",
   "metadata": {},
   "source": [
    "## CIRCLE 2"
   ]
  },
  {
   "cell_type": "code",
   "execution_count": 12,
   "id": "3ff3781a",
   "metadata": {},
   "outputs": [],
   "source": [
    "bbox_c2_fp = circle2 / 'bbox'\n",
    "img_c2_fp = circle2 / 'image'\n",
    "label_c2_fp = circle2 / 'label.csv'"
   ]
  },
  {
   "cell_type": "code",
   "execution_count": 13,
   "id": "90e07149",
   "metadata": {},
   "outputs": [],
   "source": [
    "fn_bbox_c2 = list(bbox_c2_fp.iterdir())\n",
    "fn_bbox_c2 = [i.parts[-1].split('.')[0] for i in fn_bbox_c2 if '.csv' in str(i.parts[-1])]"
   ]
  },
  {
   "cell_type": "code",
   "execution_count": 14,
   "id": "6f7ede71",
   "metadata": {},
   "outputs": [],
   "source": [
    "fn_img_c2 = list(img_c2_fp.iterdir())\n",
    "fn_img_c2 = [i.parts[-1].split('.')[0] for i in fn_img_c2 if '.jpeg' in str(i.parts[-1])]"
   ]
  },
  {
   "cell_type": "code",
   "execution_count": 15,
   "id": "346eccfe",
   "metadata": {},
   "outputs": [],
   "source": [
    "label_c2 = pd.read_csv(label_c2_fp, index_col=0)\n",
    "fn_label_c2 = label_c2['id'].tolist()"
   ]
  },
  {
   "cell_type": "code",
   "execution_count": 16,
   "id": "13873490",
   "metadata": {},
   "outputs": [
    {
     "data": {
      "text/plain": [
       "(226, 226, 226)"
      ]
     },
     "execution_count": 16,
     "metadata": {},
     "output_type": "execute_result"
    }
   ],
   "source": [
    "len(fn_bbox_c2), len(fn_img_c2), len(fn_label_c2)"
   ]
  },
  {
   "cell_type": "code",
   "execution_count": 17,
   "id": "9f3e2463",
   "metadata": {},
   "outputs": [
    {
     "data": {
      "text/plain": [
       "226"
      ]
     },
     "execution_count": 17,
     "metadata": {},
     "output_type": "execute_result"
    }
   ],
   "source": [
    "len(set(fn_bbox_c2) & set(fn_img_c2) & set(fn_label_c2))"
   ]
  },
  {
   "cell_type": "code",
   "execution_count": 19,
   "id": "1c8ecf7c",
   "metadata": {},
   "outputs": [],
   "source": [
    "fn_c2 = list(set(fn_bbox_c2) & set(fn_img_c2) & set(fn_label_c2))"
   ]
  },
  {
   "cell_type": "markdown",
   "id": "7787a507",
   "metadata": {},
   "source": [
    "## Merge CIRCLE1 & 2 TOGETHER"
   ]
  },
  {
   "cell_type": "code",
   "execution_count": 42,
   "id": "31f0a1fd",
   "metadata": {},
   "outputs": [
    {
     "data": {
      "text/plain": [
       "0"
      ]
     },
     "execution_count": 42,
     "metadata": {},
     "output_type": "execute_result"
    }
   ],
   "source": [
    "len(set(fn_c1) & set(fn_c2))"
   ]
  },
  {
   "cell_type": "code",
   "execution_count": 43,
   "id": "30c8326d",
   "metadata": {},
   "outputs": [
    {
     "data": {
      "text/plain": [
       "(747,\n",
       " ['ckm273w8l01bz3a688hcwhcb8',\n",
       "  'cklu0qujm00c03a68c9860jrr',\n",
       "  'ckm08ww40019i3a682y8w4kh3'])"
      ]
     },
     "execution_count": 43,
     "metadata": {},
     "output_type": "execute_result"
    }
   ],
   "source": [
    "fn_circle = fn_c1 + fn_c2\n",
    "len(fn_circle), fn_circle[:3]"
   ]
  },
  {
   "cell_type": "code",
   "execution_count": 44,
   "id": "8e15ad43",
   "metadata": {},
   "outputs": [],
   "source": [
    "filtered_circle_fp = FILTERED_LOC / 'circle'\n",
    "bbox_filtered_circle_fp = filtered_circle_fp / 'bbox'\n",
    "image_filtered_circle_fp = filtered_circle_fp / 'image'"
   ]
  },
  {
   "cell_type": "code",
   "execution_count": 45,
   "id": "1aa23254",
   "metadata": {},
   "outputs": [],
   "source": [
    "# Copy raw circle1 to filtered_circle_fp\n",
    "records = []\n",
    "for fn in fn_c1[:]:\n",
    "    # BBox\n",
    "    src_bbox_c1_fn = str(bbox_c1_fp /( fn +'.csv'))\n",
    "    dst_bbox_filter_fp = str(bbox_filtered_circle_fp / (fn +'.csv'))\n",
    "    shutil.copy(src_bbox_c1_fn, dst_bbox_filter_fp)\n",
    "    # Image\n",
    "    src_img_c1_fn = str(img_c1_fp / (fn + '.jpeg'))\n",
    "    dst_image_filter_fp = str(image_filtered_circle_fp / (fn +'.jpeg'))\n",
    "    shutil.copy(src_img_c1_fn, dst_image_filter_fp)\n",
    "    records.append((fn, src_bbox_c1_fn, src_img_c1_fn, dst_bbox_filter_fp, dst_image_filter_fp))\n",
    "\n",
    "# Copy raw circle2 to filtered_circle_fp\n",
    "for fn in fn_c2[:]:\n",
    "    # BBox\n",
    "    src_bbox_c2_fn = str(bbox_c2_fp /( fn +'.csv'))\n",
    "    dst_bbox_filter_fp = str(bbox_filtered_circle_fp / (fn +'.csv'))\n",
    "    shutil.copy(src_bbox_c2_fn, dst_bbox_filter_fp)\n",
    "    # Image\n",
    "    src_img_c2_fn = str(img_c2_fp / (fn + '.jpeg'))\n",
    "    dst_image_filter_fp = str(image_filtered_circle_fp / (fn +'.jpeg'))\n",
    "    shutil.copy(src_img_c2_fn, dst_image_filter_fp)\n",
    "    records.append((fn, src_bbox_c2_fn, src_img_c2_fn, dst_bbox_filter_fp, dst_image_filter_fp))\n",
    "    \n",
    "record_df = pd.DataFrame(data=records, columns=['filename','raw_bbox', 'raw_img', 'filtered_bbox', 'filtered_img'])"
   ]
  },
  {
   "cell_type": "code",
   "execution_count": 48,
   "id": "e220f5df",
   "metadata": {},
   "outputs": [],
   "source": [
    "record_df.to_csv(filtered_circle_fp / 'image_path.csv')"
   ]
  },
  {
   "cell_type": "code",
   "execution_count": null,
   "id": "bafcd694",
   "metadata": {},
   "outputs": [],
   "source": []
  }
 ],
 "metadata": {
  "kernelspec": {
   "display_name": "Python 3 (ipykernel)",
   "language": "python",
   "name": "python3"
  },
  "language_info": {
   "codemirror_mode": {
    "name": "ipython",
    "version": 3
   },
   "file_extension": ".py",
   "mimetype": "text/x-python",
   "name": "python",
   "nbconvert_exporter": "python",
   "pygments_lexer": "ipython3",
   "version": "3.11.7"
  },
  "widgets": {
   "application/vnd.jupyter.widget-state+json": {
    "state": {},
    "version_major": 2,
    "version_minor": 0
   }
  }
 },
 "nbformat": 4,
 "nbformat_minor": 5
}
