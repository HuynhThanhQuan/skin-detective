{
 "cells": [
  {
   "cell_type": "code",
   "execution_count": 1,
   "id": "e8237bbe-ffaf-4119-8e65-670406c2ce5c",
   "metadata": {},
   "outputs": [],
   "source": [
    "import os\n",
    "import pathlib\n",
    "import pandas as pd\n",
    "import numpy as np\n",
    "import shutil"
   ]
  },
  {
   "cell_type": "code",
   "execution_count": 2,
   "id": "9c88df50-146d-4486-aace-11b5bf9279e8",
   "metadata": {},
   "outputs": [],
   "source": [
    "DATA_LOC = pathlib.Path('../data/')\n",
    "\n",
    "RAW_LOC = DATA_LOC / 'raw'\n",
    "FILTERED_LOC = DATA_LOC / 'filtered'"
   ]
  },
  {
   "cell_type": "code",
   "execution_count": 3,
   "id": "bdba4f37-f6ef-44c2-a667-68c79383dbd6",
   "metadata": {},
   "outputs": [],
   "source": [
    "grade1 = RAW_LOC / 'grade1'\n",
    "grade2 = RAW_LOC / 'grade2'"
   ]
  },
  {
   "cell_type": "markdown",
   "id": "abcde4f1-fa89-466f-affb-a17010505ce4",
   "metadata": {},
   "source": [
    "# DATA CHECK"
   ]
  },
  {
   "cell_type": "markdown",
   "id": "3a9a7298-4f9d-49fe-9eef-d1707f8a8282",
   "metadata": {},
   "source": [
    "## GRADE 1"
   ]
  },
  {
   "cell_type": "code",
   "execution_count": 4,
   "id": "f242e1cb-4fcd-4532-b38a-178169d92e7a",
   "metadata": {},
   "outputs": [],
   "source": [
    "img_g1_fp = grade1 / 'image'\n",
    "label_g1_fp = grade1 / 'label.csv'"
   ]
  },
  {
   "cell_type": "code",
   "execution_count": 5,
   "id": "23aefc0f-34f8-43a3-a66c-cabdf78ee77c",
   "metadata": {},
   "outputs": [],
   "source": [
    "fn_img_g1 = list(img_g1_fp.iterdir())\n",
    "fn_img_g1 = [i.parts[-1].split('.')[0] for i in fn_img_g1 if '.jpeg' in str(i.parts[-1])]"
   ]
  },
  {
   "cell_type": "code",
   "execution_count": 6,
   "id": "7f54da1f-3257-43ed-ac88-ed603e9962f6",
   "metadata": {},
   "outputs": [],
   "source": [
    "label_g1 = pd.read_csv(label_g1_fp, index_col=0)\n",
    "fn_label_g1 = label_g1['id'].tolist()"
   ]
  },
  {
   "cell_type": "code",
   "execution_count": 7,
   "id": "a2bb430a-c992-4d0e-9703-e201d5d1de21",
   "metadata": {},
   "outputs": [
    {
     "data": {
      "text/plain": [
       "(864, 864)"
      ]
     },
     "execution_count": 7,
     "metadata": {},
     "output_type": "execute_result"
    }
   ],
   "source": [
    "len(fn_img_g1), len(fn_label_g1)"
   ]
  },
  {
   "cell_type": "code",
   "execution_count": 8,
   "id": "29b67a71-e540-4043-a47c-240e65437947",
   "metadata": {},
   "outputs": [
    {
     "data": {
      "text/plain": [
       "864"
      ]
     },
     "execution_count": 8,
     "metadata": {},
     "output_type": "execute_result"
    }
   ],
   "source": [
    "len(set(fn_img_g1) & set(fn_label_g1))"
   ]
  },
  {
   "cell_type": "code",
   "execution_count": 9,
   "id": "d97b6334",
   "metadata": {},
   "outputs": [
    {
     "data": {
      "text/plain": [
       "864"
      ]
     },
     "execution_count": 9,
     "metadata": {},
     "output_type": "execute_result"
    }
   ],
   "source": [
    "fn_g1 = list(set(fn_img_g1) & set(fn_label_g1))\n",
    "len(fn_g1)"
   ]
  },
  {
   "cell_type": "code",
   "execution_count": null,
   "id": "c3b9a41b",
   "metadata": {},
   "outputs": [],
   "source": []
  },
  {
   "cell_type": "markdown",
   "id": "62b71f62",
   "metadata": {},
   "source": [
    "## GRADE 2"
   ]
  },
  {
   "cell_type": "code",
   "execution_count": 10,
   "id": "3ff3781a",
   "metadata": {},
   "outputs": [],
   "source": [
    "img_g2_fp = grade2 / 'image'\n",
    "label_g2_fp = grade2 / 'label.csv'"
   ]
  },
  {
   "cell_type": "code",
   "execution_count": 11,
   "id": "6f7ede71",
   "metadata": {},
   "outputs": [],
   "source": [
    "fn_img_g2 = list(img_g2_fp.iterdir())\n",
    "fn_img_g2 = [i.parts[-1].split('.')[0] for i in fn_img_g2 if '.jpeg' in str(i.parts[-1])]"
   ]
  },
  {
   "cell_type": "code",
   "execution_count": 12,
   "id": "346eccfe",
   "metadata": {},
   "outputs": [],
   "source": [
    "label_g2 = pd.read_csv(label_g2_fp, index_col=0)\n",
    "fn_label_g2 = label_g2['id'].tolist()"
   ]
  },
  {
   "cell_type": "code",
   "execution_count": 13,
   "id": "13873490",
   "metadata": {},
   "outputs": [
    {
     "data": {
      "text/plain": [
       "(867, 867)"
      ]
     },
     "execution_count": 13,
     "metadata": {},
     "output_type": "execute_result"
    }
   ],
   "source": [
    "len(fn_img_g2), len(fn_label_g2)"
   ]
  },
  {
   "cell_type": "code",
   "execution_count": 14,
   "id": "9f3e2463",
   "metadata": {},
   "outputs": [
    {
     "data": {
      "text/plain": [
       "867"
      ]
     },
     "execution_count": 14,
     "metadata": {},
     "output_type": "execute_result"
    }
   ],
   "source": [
    "len(set(fn_img_g2) & set(fn_label_g2))"
   ]
  },
  {
   "cell_type": "code",
   "execution_count": 15,
   "id": "1c8ecf7c",
   "metadata": {},
   "outputs": [
    {
     "data": {
      "text/plain": [
       "867"
      ]
     },
     "execution_count": 15,
     "metadata": {},
     "output_type": "execute_result"
    }
   ],
   "source": [
    "fn_g2 = list(set(fn_img_g2) & set(fn_label_g2))\n",
    "len(fn_g2)"
   ]
  },
  {
   "cell_type": "markdown",
   "id": "7787a507",
   "metadata": {},
   "source": [
    "## Merge GRADE 1 & 2 TOGETHER"
   ]
  },
  {
   "cell_type": "code",
   "execution_count": 16,
   "id": "31f0a1fd",
   "metadata": {},
   "outputs": [
    {
     "data": {
      "text/plain": [
       "0"
      ]
     },
     "execution_count": 16,
     "metadata": {},
     "output_type": "execute_result"
    }
   ],
   "source": [
    "len(set(fn_g1) & set(fn_g2))"
   ]
  },
  {
   "cell_type": "code",
   "execution_count": 17,
   "id": "30c8326d",
   "metadata": {},
   "outputs": [
    {
     "data": {
      "text/plain": [
       "(1731,\n",
       " ['ckln58gfd00cy3t5lzbmrz7tz',\n",
       "  'cklp6xfjw002l3b68sb4tsw1t',\n",
       "  'cklnet57800b33b680av5qm1e'])"
      ]
     },
     "execution_count": 17,
     "metadata": {},
     "output_type": "execute_result"
    }
   ],
   "source": [
    "fn_grade = fn_g1 + fn_g2\n",
    "len(fn_grade), fn_grade[:3]"
   ]
  },
  {
   "cell_type": "code",
   "execution_count": 18,
   "id": "8e15ad43",
   "metadata": {},
   "outputs": [],
   "source": [
    "filtered_grade_fp = FILTERED_LOC / 'grade'\n",
    "image_filtered_grade_fp = filtered_grade_fp / 'image'"
   ]
  },
  {
   "cell_type": "code",
   "execution_count": 19,
   "id": "1aa23254",
   "metadata": {},
   "outputs": [],
   "source": [
    "# Copy raw grade1 to filtered_grade_fp\n",
    "records = []\n",
    "for fn in fn_g1[:]:\n",
    "    # Image\n",
    "    src_img_g1_fn = str(img_g1_fp / (fn + '.jpeg'))\n",
    "    dst_image_filter_fp = str(image_filtered_grade_fp / (fn +'.jpeg'))\n",
    "    # shutil.copy(src_img_g1_fn, dst_image_filter_fp)\n",
    "    records.append((fn, src_img_g1_fn, dst_image_filter_fp))\n",
    "\n",
    "# Copy raw grade2 to filtered_grade_fp\n",
    "for fn in fn_g2[:]:\n",
    "    # Image\n",
    "    src_img_g2_fn = str(img_g2_fp / (fn + '.jpeg'))\n",
    "    dst_image_filter_fp = str(image_filtered_grade_fp / (fn +'.jpeg'))\n",
    "    # shutil.copy(src_img_g2_fn, dst_image_filter_fp)\n",
    "    records.append((fn, src_img_g2_fn, dst_image_filter_fp))\n",
    "    \n",
    "record_df = pd.DataFrame(data=records, columns=['filename','raw_img', 'filtered_img'])"
   ]
  },
  {
   "cell_type": "code",
   "execution_count": 20,
   "id": "4536372e",
   "metadata": {},
   "outputs": [
    {
     "data": {
      "text/plain": [
       "1731"
      ]
     },
     "execution_count": 20,
     "metadata": {},
     "output_type": "execute_result"
    }
   ],
   "source": [
    "len(record_df)"
   ]
  },
  {
   "cell_type": "code",
   "execution_count": 21,
   "id": "7422429f",
   "metadata": {},
   "outputs": [],
   "source": [
    "filtered_label_df = pd.concat([label_g1[['id','classification']],label_g2[['id','classification']]], ignore_index=True)\n",
    "filtered_label_df.columns = ['filename', 'label']"
   ]
  },
  {
   "cell_type": "code",
   "execution_count": 22,
   "id": "84bf81fa",
   "metadata": {},
   "outputs": [
    {
     "data": {
      "text/plain": [
       "1731"
      ]
     },
     "execution_count": 22,
     "metadata": {},
     "output_type": "execute_result"
    }
   ],
   "source": [
    "len(filtered_label_df)"
   ]
  },
  {
   "cell_type": "code",
   "execution_count": 23,
   "id": "7c012802",
   "metadata": {},
   "outputs": [
    {
     "data": {
      "text/plain": [
       "1731"
      ]
     },
     "execution_count": 23,
     "metadata": {},
     "output_type": "execute_result"
    }
   ],
   "source": [
    "record_df = filtered_label_df.merge(record_df, how='inner', left_on='filename', right_on='filename')\n",
    "len(record_df)"
   ]
  },
  {
   "cell_type": "code",
   "execution_count": 27,
   "id": "2baeafed",
   "metadata": {},
   "outputs": [
    {
     "data": {
      "text/plain": [
       "array(['1', '2', '4', '3', '0', nan, 'low_image_quality',\n",
       "       \"image_quality_is_too_low,_doctor_can't_grade_acne_severity_with_high_confidence_\",\n",
       "       \"image_quality_is_too_low,_doctor_can't_grade_acne_severity_with_high_confidence\"],\n",
       "      dtype=object)"
      ]
     },
     "execution_count": 27,
     "metadata": {},
     "output_type": "execute_result"
    }
   ],
   "source": [
    "record_df ['label'].unique()"
   ]
  },
  {
   "cell_type": "code",
   "execution_count": 29,
   "id": "dcca5a26",
   "metadata": {},
   "outputs": [
    {
     "data": {
      "text/plain": [
       "label\n",
       "0                                                                                   630\n",
       "1                                                                                   567\n",
       "2                                                                                   318\n",
       "3                                                                                   110\n",
       "4                                                                                    42\n",
       "image_quality_is_too_low,_doctor_can't_grade_acne_severity_with_high_confidence      35\n",
       "NaN                                                                                  22\n",
       "image_quality_is_too_low,_doctor_can't_grade_acne_severity_with_high_confidence_      4\n",
       "low_image_quality                                                                     3\n",
       "Name: count, dtype: int64"
      ]
     },
     "execution_count": 29,
     "metadata": {},
     "output_type": "execute_result"
    }
   ],
   "source": [
    "record_df ['label'].value_counts(dropna=False)"
   ]
  },
  {
   "cell_type": "code",
   "execution_count": 32,
   "id": "38bf3bf9",
   "metadata": {},
   "outputs": [],
   "source": [
    "record_df = record_df[record_df['label'].isin(['0', '1','2','3','4'])]"
   ]
  },
  {
   "cell_type": "code",
   "execution_count": 33,
   "id": "ff336e10",
   "metadata": {},
   "outputs": [],
   "source": [
    "record_df['label'] = record_df['label'].astype(int)"
   ]
  },
  {
   "cell_type": "code",
   "execution_count": 34,
   "id": "c03516be",
   "metadata": {},
   "outputs": [
    {
     "data": {
      "text/plain": [
       "label\n",
       "0    630\n",
       "1    567\n",
       "2    318\n",
       "3    110\n",
       "4     42\n",
       "Name: count, dtype: int64"
      ]
     },
     "execution_count": 34,
     "metadata": {},
     "output_type": "execute_result"
    }
   ],
   "source": [
    "record_df ['label'].value_counts(dropna=False)"
   ]
  },
  {
   "cell_type": "code",
   "execution_count": 35,
   "id": "f859c35f",
   "metadata": {},
   "outputs": [
    {
     "data": {
      "text/plain": [
       "<Axes: ylabel='count'>"
      ]
     },
     "execution_count": 35,
     "metadata": {},
     "output_type": "execute_result"
    },
    {
     "data": {
      "image/png": "[encoded data removed]",
      "text/plain": [
       "<Figure size 640x480 with 1 Axes>"
      ]
     },
     "metadata": {},
     "output_type": "display_data"
    }
   ],
   "source": [
    "record_df ['label'].value_counts(dropna=False).plot(kind='pie', autopct='%.2f%%')"
   ]
  },
  {
   "cell_type": "code",
   "execution_count": 36,
   "id": "e220f5df",
   "metadata": {},
   "outputs": [],
   "source": [
    "record_df.to_csv(filtered_grade_fp / 'image_path.csv')"
   ]
  },
  {
   "cell_type": "code",
   "execution_count": 37,
   "id": "bafcd694",
   "metadata": {},
   "outputs": [],
   "source": [
    "for i, r in record_df.iterrows():\n",
    "    src = r['raw_img']\n",
    "    dst = r['filtered_img']\n",
    "    shutil.copy(src=src, dst=dst)"
   ]
  },
  {
   "cell_type": "code",
   "execution_count": 38,
   "id": "bd676467",
   "metadata": {},
   "outputs": [],
   "source": [
    "# check length"
   ]
  },
  {
   "cell_type": "code",
   "execution_count": 43,
   "id": "15b42306",
   "metadata": {},
   "outputs": [
    {
     "data": {
      "text/plain": [
       "(1667, 1667)"
      ]
     },
     "execution_count": 43,
     "metadata": {},
     "output_type": "execute_result"
    }
   ],
   "source": [
    "len(list(image_filtered_grade_fp.iterdir())), len(record_df)"
   ]
  },
  {
   "cell_type": "code",
   "execution_count": null,
   "id": "3df28c27",
   "metadata": {},
   "outputs": [],
   "source": []
  }
 ],
 "metadata": {
  "kernelspec": {
   "display_name": "Python 3 (ipykernel)",
   "language": "python",
   "name": "python3"
  },
  "language_info": {
   "codemirror_mode": {
    "name": "ipython",
    "version": 3
   },
   "file_extension": ".py",
   "mimetype": "text/x-python",
   "name": "python",
   "nbconvert_exporter": "python",
   "pygments_lexer": "ipython3",
   "version": "3.11.7"
  },
  "widgets": {
   "application/vnd.jupyter.widget-state+json": {
    "state": {},
    "version_major": 2,
    "version_minor": 0
   }
  }
 },
 "nbformat": 4,
 "nbformat_minor": 5
}
